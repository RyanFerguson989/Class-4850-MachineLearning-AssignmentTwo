{
  "nbformat": 4,
  "nbformat_minor": 0,
  "metadata": {
    "colab": {
      "provenance": [],
      "include_colab_link": true
    },
    "kernelspec": {
      "name": "python3",
      "display_name": "Python 3"
    },
    "language_info": {
      "name": "python"
    }
  },
  "cells": [
    {
      "cell_type": "markdown",
      "metadata": {
        "id": "view-in-github",
        "colab_type": "text"
      },
      "source": [
        "<a href=\"https://colab.research.google.com/github/RyanFerguson989/Colab-Work/blob/main/Ferguson_Ryan-Assignment2_ML.ipynb\" target=\"_parent\"><img src=\"https://colab.research.google.com/assets/colab-badge.svg\" alt=\"Open In Colab\"/></a>"
      ]
    },
    {
      "cell_type": "markdown",
      "source": [
        "# CSC 4850 / 6850 / DSCI 4850 - Assisgment 2 - (350/400 points)\n",
        "\n",
        "**Total points (350 undergraduate / 400 graduate)**\n",
        "\n",
        "**Student Name: Ryan Ferguson**\n",
        "\n",
        "**Undergraduate**\n",
        "\n",
        "## Instructions:\n",
        "\n",
        "You are to make a copy of this notebook on your own Google Drive (if you don't have one, get one, it is free), and use the exact format provided. Any code needs to go in the code cells, and any 'text' answer/description needs to go in the proper text cell. We will not be looking for answers randomly placed so please read the instructions.\n",
        "\n",
        "You are to use only the libraries provided in the next code cell. Any additional library is NOT allowed and will cause you to lose all the points that use said library's functions/functionality. You can use any functions given in the class code examples, but be very very careful of lifting anything \n",
        "'as-is' from the internet as it will be considerered plagiarism. \n",
        "\n",
        "**IMPORTANT: Make sure you use 1234 for your randomseed/random state. Failure to do so will make your answers not comparable to the answer key and you will get a zero on the whole assignment.**\n",
        "\n",
        "## Submission format:\n",
        "\n",
        "The submission for Assignment two will have two components:\n",
        "\n",
        "1) You are to create a PDF from the PRINT out of this notebook with all cells executed sequentially. It is the student's responsibility to be able to do this and no excuses will be accepted, no legible PDF = zero grade. So practice and test before submission time. This PDF should be named LastName_FirstName-Assignment2.PDF\n",
        "\n",
        "2) The student should create a GitHub repository for this assignment and properly title the repository Class_CODE-ClassName-AssignmentTwo. This repository should have a readme file and the Google Colab notebook in it. Note that colab can save a copy directly to GitHub so make sure you test this. Downloading the notebook file and uploading it directly will result in 200 points deduction. The link to your GitHub repository should be included as text/message in the iCollege submission drop, failure to include this link will result in a 100 point penalty. \n",
        "\n",
        "## Extra Credit for all:\n",
        "\n",
        "Any student can get 50 extra credit points by doing two simple things (you need to do BOTH):\n",
        "\n",
        "1) Make nice and pretty plots (only using the provided packages!)\n",
        "\n",
        "2) Make your GitHub repo professional (this includes your own landing page as well). Examples: https://github.com/abhisheknaiidu/awesome-github-profile-readme\n",
        "\n",
        "\n",
        "Remember that you will need a portfolio for your job search, and a professional looking repo will certainly impress recruiters/interviewers. So this is more of a favor to yourself! (yes, I follow this myself: https://github.com/jmbanda)\n"
      ],
      "metadata": {
        "id": "Uc3L9tKWVV4g"
      }
    },
    {
      "cell_type": "markdown",
      "source": [],
      "metadata": {
        "id": "JCxH3pjH4Pe1"
      }
    },
    {
      "cell_type": "code",
      "execution_count": 163,
      "metadata": {
        "id": "PjGD5VGFVS-s"
      },
      "outputs": [],
      "source": [
        "############## These are the only imports allowed to solve this homework, so make sure you do not add anything else down below\n",
        "\n",
        "%matplotlib inline\n",
        "\n",
        "import numpy as np\n",
        "import pandas as pd\n",
        "import sklearn \n",
        "import numpy as np\n",
        "import matplotlib.pyplot as plt\n",
        "import seaborn as sns; sns.set()\n"
      ]
    },
    {
      "cell_type": "markdown",
      "source": [
        "Using the Wine dataset from sklearn:"
      ],
      "metadata": {
        "id": "89_ilQegV-MS"
      }
    },
    {
      "cell_type": "code",
      "source": [
        "#get the wine dataset from sklearn and take a look at the description provided\n",
        "from sklearn import datasets\n",
        "wine = datasets.load_wine()\n"
      ],
      "metadata": {
        "id": "J_sakm7HV90A"
      },
      "execution_count": 164,
      "outputs": []
    },
    {
      "cell_type": "markdown",
      "source": [
        "# Question 1 (10 points)\n",
        "\n",
        "What can you say about the dataset (use code to describe it)? any particular things of interest? Find at least two things that you find interesting."
      ],
      "metadata": {
        "id": "0TLvYCXVbHN9"
      }
    },
    {
      "cell_type": "code",
      "source": [
        "##### Code block for Question 1\n",
        "print(wine.DESCR)\n",
        "print(wine.target_names)\n",
        "print(wine.feature_names)\n",
        "print(wine.update)\n"
      ],
      "metadata": {
        "id": "ZIxSrPxmbGYZ",
        "colab": {
          "base_uri": "https://localhost:8080/"
        },
        "outputId": "095b7354-63a5-45ab-ecec-60e91e708476"
      },
      "execution_count": 165,
      "outputs": [
        {
          "output_type": "stream",
          "name": "stdout",
          "text": [
            ".. _wine_dataset:\n",
            "\n",
            "Wine recognition dataset\n",
            "------------------------\n",
            "\n",
            "**Data Set Characteristics:**\n",
            "\n",
            "    :Number of Instances: 178 (50 in each of three classes)\n",
            "    :Number of Attributes: 13 numeric, predictive attributes and the class\n",
            "    :Attribute Information:\n",
            " \t\t- Alcohol\n",
            " \t\t- Malic acid\n",
            " \t\t- Ash\n",
            "\t\t- Alcalinity of ash  \n",
            " \t\t- Magnesium\n",
            "\t\t- Total phenols\n",
            " \t\t- Flavanoids\n",
            " \t\t- Nonflavanoid phenols\n",
            " \t\t- Proanthocyanins\n",
            "\t\t- Color intensity\n",
            " \t\t- Hue\n",
            " \t\t- OD280/OD315 of diluted wines\n",
            " \t\t- Proline\n",
            "\n",
            "    - class:\n",
            "            - class_0\n",
            "            - class_1\n",
            "            - class_2\n",
            "\t\t\n",
            "    :Summary Statistics:\n",
            "    \n",
            "    ============================= ==== ===== ======= =====\n",
            "                                   Min   Max   Mean     SD\n",
            "    ============================= ==== ===== ======= =====\n",
            "    Alcohol:                      11.0  14.8    13.0   0.8\n",
            "    Malic Acid:                   0.74  5.80    2.34  1.12\n",
            "    Ash:                          1.36  3.23    2.36  0.27\n",
            "    Alcalinity of Ash:            10.6  30.0    19.5   3.3\n",
            "    Magnesium:                    70.0 162.0    99.7  14.3\n",
            "    Total Phenols:                0.98  3.88    2.29  0.63\n",
            "    Flavanoids:                   0.34  5.08    2.03  1.00\n",
            "    Nonflavanoid Phenols:         0.13  0.66    0.36  0.12\n",
            "    Proanthocyanins:              0.41  3.58    1.59  0.57\n",
            "    Colour Intensity:              1.3  13.0     5.1   2.3\n",
            "    Hue:                          0.48  1.71    0.96  0.23\n",
            "    OD280/OD315 of diluted wines: 1.27  4.00    2.61  0.71\n",
            "    Proline:                       278  1680     746   315\n",
            "    ============================= ==== ===== ======= =====\n",
            "\n",
            "    :Missing Attribute Values: None\n",
            "    :Class Distribution: class_0 (59), class_1 (71), class_2 (48)\n",
            "    :Creator: R.A. Fisher\n",
            "    :Donor: Michael Marshall (MARSHALL%PLU@io.arc.nasa.gov)\n",
            "    :Date: July, 1988\n",
            "\n",
            "This is a copy of UCI ML Wine recognition datasets.\n",
            "https://archive.ics.uci.edu/ml/machine-learning-databases/wine/wine.data\n",
            "\n",
            "The data is the results of a chemical analysis of wines grown in the same\n",
            "region in Italy by three different cultivators. There are thirteen different\n",
            "measurements taken for different constituents found in the three types of\n",
            "wine.\n",
            "\n",
            "Original Owners: \n",
            "\n",
            "Forina, M. et al, PARVUS - \n",
            "An Extendible Package for Data Exploration, Classification and Correlation. \n",
            "Institute of Pharmaceutical and Food Analysis and Technologies,\n",
            "Via Brigata Salerno, 16147 Genoa, Italy.\n",
            "\n",
            "Citation:\n",
            "\n",
            "Lichman, M. (2013). UCI Machine Learning Repository\n",
            "[https://archive.ics.uci.edu/ml]. Irvine, CA: University of California,\n",
            "School of Information and Computer Science. \n",
            "\n",
            ".. topic:: References\n",
            "\n",
            "  (1) S. Aeberhard, D. Coomans and O. de Vel, \n",
            "  Comparison of Classifiers in High Dimensional Settings, \n",
            "  Tech. Rep. no. 92-02, (1992), Dept. of Computer Science and Dept. of  \n",
            "  Mathematics and Statistics, James Cook University of North Queensland. \n",
            "  (Also submitted to Technometrics). \n",
            "\n",
            "  The data was used with many others for comparing various \n",
            "  classifiers. The classes are separable, though only RDA \n",
            "  has achieved 100% correct classification. \n",
            "  (RDA : 100%, QDA 99.4%, LDA 98.9%, 1NN 96.1% (z-transformed data)) \n",
            "  (All results using the leave-one-out technique) \n",
            "\n",
            "  (2) S. Aeberhard, D. Coomans and O. de Vel, \n",
            "  \"THE CLASSIFICATION PERFORMANCE OF RDA\" \n",
            "  Tech. Rep. no. 92-01, (1992), Dept. of Computer Science and Dept. of \n",
            "  Mathematics and Statistics, James Cook University of North Queensland. \n",
            "  (Also submitted to Journal of Chemometrics).\n",
            "\n",
            "['class_0' 'class_1' 'class_2']\n",
            "['alcohol', 'malic_acid', 'ash', 'alcalinity_of_ash', 'magnesium', 'total_phenols', 'flavanoids', 'nonflavanoid_phenols', 'proanthocyanins', 'color_intensity', 'hue', 'od280/od315_of_diluted_wines', 'proline']\n",
            "<built-in method update of Bunch object at 0x7f98e016e6d0>\n"
          ]
        }
      ]
    },
    {
      "cell_type": "markdown",
      "source": [
        "3 classes.\n",
        "13 features.\n"
      ],
      "metadata": {
        "id": "Od1B4oGdbaSC"
      }
    },
    {
      "cell_type": "markdown",
      "source": [
        "# Question 2 (10 points)\n",
        "\n",
        "Remove class_2, so it becomes a binary problem now. Split the dataset into a testing and a training set using 65% of the data for training and the rest for testing. Use the built-in sklearn functionality for this, any other way will not be graded."
      ],
      "metadata": {
        "id": "Hl5dZFu7lDg5"
      }
    },
    {
      "cell_type": "code",
      "source": [
        "##### Code block for Question 2\n",
        "X = wine.data\n",
        "y = wine.target\n",
        "print(len(X))\n",
        "print(y)\n",
        "i = 177\n",
        "for item in y:\n",
        "  if(item==2):\n",
        "    X = np.delete(X, (i), axis=0)\n",
        "    y = np.delete(y, (i), axis=0)\n",
        "    i=i-1\n",
        "print(len(X))\n",
        "print(y)\n",
        "X_train, X_test, y_train, y_test = train_test_split(X, y, test_size=0.35, train_size=0.65, random_state=1234)\n",
        "print(y_train)\n",
        "print(y_test)\n",
        "#why did this take me 4 hours??"
      ],
      "metadata": {
        "id": "QDAUtNuAlUyI",
        "colab": {
          "base_uri": "https://localhost:8080/"
        },
        "outputId": "88efc6ad-c224-4813-ff3a-06a7a3977a47"
      },
      "execution_count": 166,
      "outputs": [
        {
          "output_type": "stream",
          "name": "stdout",
          "text": [
            "178\n",
            "[0 0 0 0 0 0 0 0 0 0 0 0 0 0 0 0 0 0 0 0 0 0 0 0 0 0 0 0 0 0 0 0 0 0 0 0 0\n",
            " 0 0 0 0 0 0 0 0 0 0 0 0 0 0 0 0 0 0 0 0 0 0 1 1 1 1 1 1 1 1 1 1 1 1 1 1 1\n",
            " 1 1 1 1 1 1 1 1 1 1 1 1 1 1 1 1 1 1 1 1 1 1 1 1 1 1 1 1 1 1 1 1 1 1 1 1 1\n",
            " 1 1 1 1 1 1 1 1 1 1 1 1 1 1 1 1 1 1 1 2 2 2 2 2 2 2 2 2 2 2 2 2 2 2 2 2 2\n",
            " 2 2 2 2 2 2 2 2 2 2 2 2 2 2 2 2 2 2 2 2 2 2 2 2 2 2 2 2 2 2]\n",
            "130\n",
            "[0 0 0 0 0 0 0 0 0 0 0 0 0 0 0 0 0 0 0 0 0 0 0 0 0 0 0 0 0 0 0 0 0 0 0 0 0\n",
            " 0 0 0 0 0 0 0 0 0 0 0 0 0 0 0 0 0 0 0 0 0 0 1 1 1 1 1 1 1 1 1 1 1 1 1 1 1\n",
            " 1 1 1 1 1 1 1 1 1 1 1 1 1 1 1 1 1 1 1 1 1 1 1 1 1 1 1 1 1 1 1 1 1 1 1 1 1\n",
            " 1 1 1 1 1 1 1 1 1 1 1 1 1 1 1 1 1 1 1]\n",
            "[0 1 1 1 0 0 1 0 1 0 1 1 1 1 0 0 1 1 0 0 1 1 1 0 1 1 0 1 1 0 1 0 0 0 0 1 1\n",
            " 0 1 0 0 1 1 0 1 1 1 0 0 0 0 1 1 0 0 1 1 0 0 1 0 1 1 1 1 1 0 1 1 1 0 0 0 1\n",
            " 0 0 0 1 0 1 1 0 0 0]\n",
            "[1 1 1 0 0 0 1 1 0 0 0 1 1 0 1 0 0 1 1 1 0 1 1 1 1 0 1 1 0 0 1 1 1 0 0 0 1\n",
            " 0 1 1 0 0 1 1 1 1]\n"
          ]
        }
      ]
    },
    {
      "cell_type": "markdown",
      "source": [
        "# Question 3 (30 points)\n",
        "\n",
        "Use the perceptron algorithm (with default settings and the correct seed) to build a model on the training set and report the model's accuracy."
      ],
      "metadata": {
        "id": "V6grDh8FlVtS"
      }
    },
    {
      "cell_type": "code",
      "source": [
        "from sklearn.linear_model import Perceptron\n",
        "##### Code block for Question 3\n",
        "TrainPerceptron = Perceptron(random_state=1234)\n",
        "TrainPerceptron.fit(X_train, y_train)\n",
        "prediction = TrainPerceptron.predict(X_test)\n",
        "accuracy = sklearn.metrics.accuracy_score(y_test, prediction)\n",
        "print(accuracy)"
      ],
      "metadata": {
        "id": "OAmTADedkDN0",
        "colab": {
          "base_uri": "https://localhost:8080/"
        },
        "outputId": "16014fec-e2d9-43bf-8646-969c5621bc37"
      },
      "execution_count": 167,
      "outputs": [
        {
          "output_type": "stream",
          "name": "stdout",
          "text": [
            "0.6739130434782609\n"
          ]
        }
      ]
    },
    {
      "cell_type": "markdown",
      "source": [
        "# Question 4 (20 points)\n",
        "\n",
        "Show the classification report for the built model. In the text cell, following the code block for question 4, descibe what findings can be infered from the classification report. Mention at least 3 observations."
      ],
      "metadata": {
        "id": "UDBERCfzkTIK"
      }
    },
    {
      "cell_type": "code",
      "source": [
        "##### Code block for Question 4\n",
        "print(y_test)\n",
        "print(prediction)"
      ],
      "metadata": {
        "id": "OlQED2C0kSQ-",
        "colab": {
          "base_uri": "https://localhost:8080/"
        },
        "outputId": "3f217bb3-d79e-4645-a5b6-435755c34dd9"
      },
      "execution_count": 168,
      "outputs": [
        {
          "output_type": "stream",
          "name": "stdout",
          "text": [
            "[1 1 1 0 0 0 1 1 0 0 0 1 1 0 1 0 0 1 1 1 0 1 1 1 1 0 1 1 0 0 1 1 1 0 0 0 1\n",
            " 0 1 1 0 0 1 1 1 1]\n",
            "[1 1 1 0 0 0 1 1 1 1 1 1 1 1 1 1 0 1 1 1 1 1 1 1 1 1 1 1 1 1 1 1 1 1 1 1 1\n",
            " 1 1 1 1 1 1 1 1 1]\n"
          ]
        }
      ]
    },
    {
      "cell_type": "markdown",
      "source": [
        "Our model classifies many more 1's than 0's so our prediction data seems extremely unbalanced.\n",
        "\n",
        "Comparing to the actual classifications of the data, we can see that the predictions only misclassified 0's into 1's and not vice versa.\n",
        "\n",
        "We can say that our accuracy will always be at least 50% assuming we always have a balanced dataset."
      ],
      "metadata": {
        "id": "axlGZ10EkumL"
      }
    },
    {
      "cell_type": "markdown",
      "source": [
        "# Question 5 (30 points)\n",
        "\n",
        "Use the trained model to make predictions on the test set. Output AND plot the confusion matrix from the model's predictions. \n",
        "\n",
        "In the second code cell, plot side by side: On the left side, the test set and its labels (using features Alcohol as the X axis and Alcalinity of Ash as the Y axis) with each point colored depending its class label. On the right side, the actual predictions (use the same Alcohol as the X axis and Alcalinity of Ash as the Y axis) with each point colored depending on its class label."
      ],
      "metadata": {
        "id": "D5FbmbFolUE-"
      }
    },
    {
      "cell_type": "code",
      "source": [
        "##### Code block for Question 5 - part 1\n",
        "predictX = TrainPerceptron.predict(X_test)\n",
        "cm = sklearn.metrics.confusion_matrix(y_test, predictX)\n",
        "print(cm)\n",
        "sns.heatmap(cm, annot=True)"
      ],
      "metadata": {
        "id": "7-wRvWY7mvJ4",
        "colab": {
          "base_uri": "https://localhost:8080/",
          "height": 320
        },
        "outputId": "fc15f05c-facf-4ace-d9ba-47826fcdd0ac"
      },
      "execution_count": 169,
      "outputs": [
        {
          "output_type": "stream",
          "name": "stdout",
          "text": [
            "[[ 4 15]\n",
            " [ 0 27]]\n"
          ]
        },
        {
          "output_type": "execute_result",
          "data": {
            "text/plain": [
              "<AxesSubplot:>"
            ]
          },
          "metadata": {},
          "execution_count": 169
        },
        {
          "output_type": "display_data",
          "data": {
            "text/plain": [
              "<Figure size 432x288 with 2 Axes>"
            ],
            "image/png": "[encoded data removed]"
          },
          "metadata": {}
        }
      ]
    },
    {
      "cell_type": "code",
      "source": [
        "##### Code block for Question 5 - part 2\n"
      ],
      "metadata": {
        "id": "y-pa14x0myPD"
      },
      "execution_count": 170,
      "outputs": []
    },
    {
      "cell_type": "markdown",
      "source": [
        "# Question 6 (10 points) \n",
        "\n",
        "a) Do the plot right plot on Question 5 - part 2 match the confusion matrix of part 1?\n",
        "\n",
        "b) Any interesting observations from the predictions and the model performance? (write at least 2)"
      ],
      "metadata": {
        "id": "d0uKcXIWm2gZ"
      }
    },
    {
      "cell_type": "markdown",
      "source": [
        "Textual answer to question 6 a goes here."
      ],
      "metadata": {
        "id": "fUv67lIDnQVt"
      }
    },
    {
      "cell_type": "markdown",
      "source": [
        "Textual answer to question 6 b goes here."
      ],
      "metadata": {
        "id": "vekeBSBBnS8d"
      }
    },
    {
      "cell_type": "markdown",
      "source": [
        "# Question 7 (10 points)\n",
        "\n",
        "Reload the Wine dataset and split the dataset into a testing and a training set using 65% of the data for training and the rest for testing. Use the built-in sklearn functionality for this, any other way will not be graded."
      ],
      "metadata": {
        "id": "5FAvUA_LptZA"
      }
    },
    {
      "cell_type": "code",
      "source": [
        "##### Code block for Question 7\n",
        "wine = datasets.load_wine()\n",
        "X = wine.data\n",
        "y = wine.target\n",
        "X_train, X_test, y_train, y_test = train_test_split(X, y, test_size=0.35, train_size=0.65, random_state=1234)\n"
      ],
      "metadata": {
        "id": "OVEa6yRHpsVp"
      },
      "execution_count": 171,
      "outputs": []
    },
    {
      "cell_type": "markdown",
      "source": [
        "# Question 8 (30 points)\n",
        "\n",
        "Use the Decision Tree algorithm (with default settings and the correct seed) to build a model on the training set and report the model's accuracy."
      ],
      "metadata": {
        "id": "7GCTkGwOqFP7"
      }
    },
    {
      "cell_type": "code",
      "source": [
        "from sklearn.tree import DecisionTreeClassifier\n",
        "##### Code block for Question 8\n",
        "tree = DecisionTreeClassifier().fit(X_train, y_train)\n",
        "predict = tree.predict(X_test)\n",
        "acc = sklearn.metrics.accuracy_score(y_test, predict)\n",
        "print(acc)"
      ],
      "metadata": {
        "id": "io8-k2M-prgl",
        "colab": {
          "base_uri": "https://localhost:8080/"
        },
        "outputId": "a16ad3b4-a820-4db9-c40d-e1fb02660604"
      },
      "execution_count": 189,
      "outputs": [
        {
          "output_type": "stream",
          "name": "stdout",
          "text": [
            "0.873015873015873\n"
          ]
        }
      ]
    },
    {
      "cell_type": "markdown",
      "source": [
        "# Question 9 (20 points)\n",
        "\n",
        "Show the classification report for the built model. In the text cell, following the code block for question 9, descibe what findings can be infered from the classification report. Mention at least 3 observations."
      ],
      "metadata": {
        "id": "3VYbQk6ZqsjC"
      }
    },
    {
      "cell_type": "code",
      "source": [
        "##### Code block for Question 9\n"
      ],
      "metadata": {
        "id": "qRZWpYIBq0aA"
      },
      "execution_count": 173,
      "outputs": []
    },
    {
      "cell_type": "markdown",
      "source": [
        "Textual answer to question 9 goes here."
      ],
      "metadata": {
        "id": "HeH9Cdnzq1QF"
      }
    },
    {
      "cell_type": "markdown",
      "source": [
        "# Question 10 (30 points)\n",
        "\n",
        "Use the trained model to make predictions on the test set. Output AND plot the confusion matrix from the model's predictions. \n",
        "\n",
        "In the second code cell, plot side by side: On the left side, the test set and its labels (using features Alcohol as the X axis and Alcalinity of Ash as the Y axis) with each point colored depending its class label. On the right side, the actual predictions (use the same Alcohol as the X axis and Alcalinity of Ash as the Y axis) with each point colored depending on its class label."
      ],
      "metadata": {
        "id": "CIqq_7v0rIhB"
      }
    },
    {
      "cell_type": "code",
      "source": [
        "##### Code block for Question 10 - part 1"
      ],
      "metadata": {
        "id": "GFT8khVUrQ_2"
      },
      "execution_count": 174,
      "outputs": []
    },
    {
      "cell_type": "code",
      "source": [
        "##### Code block for Question 10 - part 2"
      ],
      "metadata": {
        "id": "Zoh1vJDArQ_3"
      },
      "execution_count": 175,
      "outputs": []
    },
    {
      "cell_type": "markdown",
      "source": [
        "# Question 11 (30 points) \n",
        "\n",
        "a) Do the plot right plot on Question 10 - part 2 match the confusion matrix of part 1?\n",
        "\n",
        "b) Any interesting observations from the predictions and the model performance? (write at least 2)\n",
        "\n",
        "c) Plot the figure from question 10 - part 2 using the `visualize_classifier` function given during the class example from 2/20/2023."
      ],
      "metadata": {
        "id": "MoOX9SsqrY1m"
      }
    },
    {
      "cell_type": "markdown",
      "source": [
        "Textual answer to question 11 a goes here."
      ],
      "metadata": {
        "id": "qDsw0eoyrY1n"
      }
    },
    {
      "cell_type": "markdown",
      "source": [
        "Textual answer to question 11 b goes here."
      ],
      "metadata": {
        "id": "5CBnH3bQrY1o"
      }
    },
    {
      "cell_type": "code",
      "source": [
        "##### Code block for Question 11 - part c"
      ],
      "metadata": {
        "id": "JU01ze5mryO5"
      },
      "execution_count": 176,
      "outputs": []
    },
    {
      "cell_type": "markdown",
      "source": [
        "# Question 12 (10 points)\n",
        "\n",
        "Reload the Wine dataset and split the dataset into a testing and a training set using 65% of the data for training and the rest for testing. Use the built-in sklearn functionality for this, any other way will not be graded."
      ],
      "metadata": {
        "id": "VyZzK3XpsBgd"
      }
    },
    {
      "cell_type": "code",
      "source": [
        "##### Code block for Question 12"
      ],
      "metadata": {
        "id": "hGTZs31MsBge"
      },
      "execution_count": 177,
      "outputs": []
    },
    {
      "cell_type": "markdown",
      "source": [
        "# Question 13 (30 points)\n",
        "\n",
        "Use the Logistic Regression (with as this is a multi-class problem, use the **One Vs Rest algorithm** we must use `liblinear` solver and the correct seed) to build a model on the training set and report the model's accuracy."
      ],
      "metadata": {
        "id": "FTWIgD0rsBge"
      }
    },
    {
      "cell_type": "code",
      "source": [
        "##### Code block for Question 13"
      ],
      "metadata": {
        "id": "7uu_vP4OsBgf"
      },
      "execution_count": 178,
      "outputs": []
    },
    {
      "cell_type": "markdown",
      "source": [
        "# Question 14 (20 points)\n",
        "\n",
        "Show the classification report for the built model. In the text cell, following the code block for question 14, descibe what findings can be infered from the classification report. Mention at least 3 observations."
      ],
      "metadata": {
        "id": "nU8SRq6TsBgf"
      }
    },
    {
      "cell_type": "code",
      "source": [
        "##### Code block for Question 14"
      ],
      "metadata": {
        "id": "pXIQ7hO6sBgf"
      },
      "execution_count": 179,
      "outputs": []
    },
    {
      "cell_type": "markdown",
      "source": [
        "Textual answer to question 14 goes here."
      ],
      "metadata": {
        "id": "LVep3OJ1sBgf"
      }
    },
    {
      "cell_type": "markdown",
      "source": [
        "# Question 15 (30 points)\n",
        "\n",
        "Use the trained model to make predictions on the test set. Output AND plot the confusion matrix from the model's predictions. \n",
        "\n",
        "In the second code cell, plot side by side: On the left side, the test set and its labels (using features Alcohol as the X axis and Alcalinity of Ash as the Y axis) with each point colored depending its class label. On the right side, the actual predictions (use the same Alcohol as the X axis and Alcalinity of Ash as the Y axis) with each point colored depending on its class label."
      ],
      "metadata": {
        "id": "1DQxkgAbsBgg"
      }
    },
    {
      "cell_type": "code",
      "source": [
        "##### Code block for Question 15 - part 1"
      ],
      "metadata": {
        "id": "l9A4AifNsBgg"
      },
      "execution_count": 180,
      "outputs": []
    },
    {
      "cell_type": "code",
      "source": [
        "##### Code block for Question 15 - part 2"
      ],
      "metadata": {
        "id": "wF7X9vnGsBgg"
      },
      "execution_count": 181,
      "outputs": []
    },
    {
      "cell_type": "markdown",
      "source": [
        "# Question 16 (20 points) \n",
        "\n",
        "a) Do the plot right plot on Question 15 - part 2 match the confusion matrix of part 1?\n",
        "\n",
        "b) Any interesting observations from the predictions and the model performance? (write at least 2)"
      ],
      "metadata": {
        "id": "7Fh0OKRzsBgh"
      }
    },
    {
      "cell_type": "markdown",
      "source": [
        "Textual answer to question 16 a goes here."
      ],
      "metadata": {
        "id": "67skrMZwsBgh"
      }
    },
    {
      "cell_type": "markdown",
      "source": [
        "Textual answer to question 16 b goes here."
      ],
      "metadata": {
        "id": "bWus1xG9sBgh"
      }
    },
    {
      "cell_type": "markdown",
      "source": [
        "# Question 17 (10 points)\n",
        "\n",
        "Create AND display dataframe containing in each row the accruacy, precision, recall for each of the models built. \n",
        "\n",
        "In the textual answer cell, discuss which one is the best performing model and why?"
      ],
      "metadata": {
        "id": "W888Kt2Btame"
      }
    },
    {
      "cell_type": "code",
      "source": [
        "##### Code block for Question 17"
      ],
      "metadata": {
        "id": "WdrGJIy3tZlc"
      },
      "execution_count": 182,
      "outputs": []
    },
    {
      "cell_type": "markdown",
      "source": [
        "Textual answer to question 17 goes here."
      ],
      "metadata": {
        "id": "VEnK8F_Lt5V8"
      }
    },
    {
      "cell_type": "markdown",
      "source": [
        "# Graduate Student Question: (50 points)\n",
        "\n",
        "Modify the `visualize_classifier` function provided during the 2/20/2023 class to be able to work in 3 dimensions (currently only works in two dimensions). Take the Decision Tree classifier model from Question 8 and plot the separation of the classes using the following axes: (Alcohol as the X axis and Alcalinity of Ash as the Y axis, and Ash as the Z axis).\n"
      ],
      "metadata": {
        "id": "ziqaH6VEuBJK"
      }
    },
    {
      "cell_type": "code",
      "source": [
        "##### Code block for Graduate Student Question"
      ],
      "metadata": {
        "id": "a17SE-ZcuALz"
      },
      "execution_count": 183,
      "outputs": []
    }
  ]
}